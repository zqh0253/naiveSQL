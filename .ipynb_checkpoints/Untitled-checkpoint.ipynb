{
 "cells": [
  {
   "cell_type": "code",
   "execution_count": 62,
   "metadata": {},
   "outputs": [
    {
     "name": "stdout",
     "output_type": "stream",
     "text": [
      "write done!\n",
      "3\n",
      "b'x'\n",
      "4\n"
     ]
    }
   ],
   "source": [
    "outfile1 = open(r\"./testfile1\",\"wb\")\n",
    "for i in range(0,2):\n",
    "    outfile1.write(\"abc\".encode(\"utf-8\"))\n",
    "print (\"write done!\")\n",
    "outfile1.flush()\n",
    "outfile1.close()\n",
    "\"\"\"0x20 write 0xff\"\"\"\n",
    "tp_file= open(r\"./testfile1\",\"rb+\")\n",
    "tp_file.seek(3,0)\n",
    "tp_file.write(\"xyz\".encode(\"utf-8\"))\n",
    "tp_file.flush()\n",
    "tp_file.seek(3,0)\n",
    "print(tp_file.tell())\n",
    "print(str(tp_file.read(1)))\n",
    "print(tp_file.tell())\n",
    "tp_file.close()"
   ]
  },
  {
   "cell_type": "code",
   "execution_count": 19,
   "metadata": {},
   "outputs": [],
   "source": [
    "path = 'D:/work/cs/db/minisql/naiveSQL/dbfile/catalog/table.sqlf'"
   ]
  },
  {
   "cell_type": "code",
   "execution_count": 20,
   "metadata": {},
   "outputs": [],
   "source": [
    " \n",
    "fp = open(path,'w')"
   ]
  },
  {
   "cell_type": "code",
   "execution_count": 18,
   "metadata": {},
   "outputs": [
    {
     "data": {
      "text/plain": [
       "'D:\\\\work\\\\cs\\\\db\\\\minisql\\\\naiveSQL'"
      ]
     },
     "execution_count": 18,
     "metadata": {},
     "output_type": "execute_result"
    }
   ],
   "source": [
    "import os\n",
    "os.getcwd()"
   ]
  },
  {
   "cell_type": "code",
   "execution_count": 14,
   "metadata": {},
   "outputs": [
    {
     "data": {
      "text/plain": [
       "[1, 2, 4]"
      ]
     },
     "execution_count": 14,
     "metadata": {},
     "output_type": "execute_result"
    }
   ],
   "source": [
    "l = [1,2,4]\n",
    "\n",
    "l"
   ]
  },
  {
   "cell_type": "code",
   "execution_count": 15,
   "metadata": {},
   "outputs": [
    {
     "data": {
      "text/plain": [
       "4"
      ]
     },
     "execution_count": 15,
     "metadata": {},
     "output_type": "execute_result"
    }
   ],
   "source": [
    "l.pop(2)"
   ]
  },
  {
   "cell_type": "code",
   "execution_count": 16,
   "metadata": {},
   "outputs": [
    {
     "data": {
      "text/plain": [
       "[1, 2]"
      ]
     },
     "execution_count": 16,
     "metadata": {},
     "output_type": "execute_result"
    }
   ],
   "source": [
    "l"
   ]
  },
  {
   "cell_type": "code",
   "execution_count": 6,
   "metadata": {},
   "outputs": [
    {
     "name": "stdout",
     "output_type": "stream",
     "text": [
      "9 1 2\n",
      "8 3 5\n"
     ]
    }
   ],
   "source": [
    "t = [9,8]\n",
    "k = {1:2,3:5}\n",
    "for (o,(x,y)) in zip(t,k.items()):\n",
    "    print(o,x,y)"
   ]
  },
  {
   "cell_type": "code",
   "execution_count": 5,
   "metadata": {},
   "outputs": [
    {
     "data": {
      "text/plain": [
       "'22ttt'"
      ]
     },
     "execution_count": 5,
     "metadata": {},
     "output_type": "execute_result"
    }
   ],
   "source": [
    "'{:t<5}'.format(str(22))"
   ]
  },
  {
   "cell_type": "code",
   "execution_count": 41,
   "metadata": {},
   "outputs": [
    {
     "name": "stdout",
     "output_type": "stream",
     "text": [
      "2\n"
     ]
    }
   ],
   "source": [
    "def p(a):\n",
    "    print(a)\n",
    "\n",
    "x = 2\n",
    "y = 3\n",
    "xx = 'x'\n",
    "yy = 'y'\n",
    "eval('p')(eval(xx))"
   ]
  },
  {
   "cell_type": "code",
   "execution_count": 44,
   "metadata": {},
   "outputs": [
    {
     "data": {
      "text/plain": [
       "'ab'"
      ]
     },
     "execution_count": 44,
     "metadata": {},
     "output_type": "execute_result"
    }
   ],
   "source": [
    "s = 'ab'\n",
    "s.rstrip('b')\n",
    "s\n"
   ]
  },
  {
   "cell_type": "code",
   "execution_count": 8,
   "metadata": {},
   "outputs": [
    {
     "name": "stdout",
     "output_type": "stream",
     "text": [
      "{\"is_leaf\": true, \"soins\": [], \"keys\": []}\n"
     ]
    }
   ],
   "source": [
    "import json\n",
    "m={}\n",
    "m['is_leaf'] = true\n",
    "m['soins'] = []\n",
    "m['keys'] = []\n",
    "print(json.dumps(m))"
   ]
  },
  {
   "cell_type": "code",
   "execution_count": 18,
   "metadata": {},
   "outputs": [
    {
     "data": {
      "text/plain": [
       "('{\"is_leaf\": true, \"sons\": [], \"keys\": []}',\n",
       " {'is_leaf': True, 'keys': [], 'sons': []})"
      ]
     },
     "execution_count": 18,
     "metadata": {},
     "output_type": "execute_result"
    }
   ],
   "source": [
    "ss ={\"is_leaf\":True,\"sons\":[],\"keys\":[]}\n",
    "json.dumps(ss),ss"
   ]
  },
  {
   "cell_type": "code",
   "execution_count": 28,
   "metadata": {},
   "outputs": [],
   "source": [
    "import re\n",
    "ss='a<a<=a'\n"
   ]
  },
  {
   "cell_type": "code",
   "execution_count": 29,
   "metadata": {},
   "outputs": [],
   "source": [
    "ss = re.sub('a','b',ss)"
   ]
  },
  {
   "cell_type": "code",
   "execution_count": null,
   "metadata": {},
   "outputs": [],
   "source": []
  }
 ],
 "metadata": {
  "kernelspec": {
   "display_name": "Python 3",
   "language": "python",
   "name": "python3"
  },
  "language_info": {
   "codemirror_mode": {
    "name": "ipython",
    "version": 3
   },
   "file_extension": ".py",
   "mimetype": "text/x-python",
   "name": "python",
   "nbconvert_exporter": "python",
   "pygments_lexer": "ipython3",
   "version": "3.6.4"
  }
 },
 "nbformat": 4,
 "nbformat_minor": 2
}
