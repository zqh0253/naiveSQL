{
 "cells": [
  {
   "cell_type": "code",
   "execution_count": 62,
   "metadata": {},
   "outputs": [
    {
     "name": "stdout",
     "output_type": "stream",
     "text": [
      "write done!\n",
      "3\n",
      "b'x'\n",
      "4\n"
     ]
    }
   ],
   "source": [
    "outfile1 = open(r\"./testfile1\",\"wb\")\n",
    "for i in range(0,2):\n",
    "    outfile1.write(\"abc\".encode(\"utf-8\"))\n",
    "print (\"write done!\")\n",
    "outfile1.flush()\n",
    "outfile1.close()\n",
    "\"\"\"0x20 write 0xff\"\"\"\n",
    "tp_file= open(r\"./testfile1\",\"rb+\")\n",
    "tp_file.seek(3,0)\n",
    "tp_file.write(\"xyz\".encode(\"utf-8\"))\n",
    "tp_file.flush()\n",
    "tp_file.seek(3,0)\n",
    "print(tp_file.tell())\n",
    "print(str(tp_file.read(1)))\n",
    "print(tp_file.tell())\n",
    "tp_file.close()"
   ]
  },
  {
   "cell_type": "code",
   "execution_count": 14,
   "metadata": {},
   "outputs": [],
   "source": []
  },
  {
   "cell_type": "code",
   "execution_count": 5,
   "metadata": {},
   "outputs": [
    {
     "data": {
      "text/plain": [
       "'aaa;bbb'"
      ]
     },
     "execution_count": 5,
     "metadata": {},
     "output_type": "execute_result"
    }
   ],
   "source": [
    "s"
   ]
  },
  {
   "cell_type": "code",
   "execution_count": null,
   "metadata": {},
   "outputs": [],
   "source": []
  }
 ],
 "metadata": {
  "kernelspec": {
   "display_name": "Python 3",
   "language": "python",
   "name": "python3"
  },
  "language_info": {
   "codemirror_mode": {
    "name": "ipython",
    "version": 3
   },
   "file_extension": ".py",
   "mimetype": "text/x-python",
   "name": "python",
   "nbconvert_exporter": "python",
   "pygments_lexer": "ipython3",
   "version": "3.6.4"
  }
 },
 "nbformat": 4,
 "nbformat_minor": 2
}
